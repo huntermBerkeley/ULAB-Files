{
 "cells": [
  {
   "cell_type": "code",
   "execution_count": 7,
   "metadata": {},
   "outputs": [],
   "source": [
    "folders_to_list = [1,2, 3, 4, 5, 6, 7, 8, 9, 10, 11,12]\n",
    "\n",
    "from sklearn.decomposition import PCA, IncrementalPCA\n",
    "import pickle as pkl\n",
    "from PIL import Image\n",
    "import numpy as np\n",
    "import os\n",
    "\n",
    "NUM_COMPONENTS = 50\n",
    "BATCH_SIZE = 50"
   ]
  },
  {
   "cell_type": "code",
   "execution_count": 8,
   "metadata": {},
   "outputs": [],
   "source": [
    "total_files = []\n",
    "\n",
    "for i in folders_to_list:\n",
    "    #print(\"Grabbing info for folder {}\".format(i))\n",
    "    total_files = total_files + [\"images{}/{}\".format(i,j) for j in os.listdir(\"images{}\".format(i))]\n",
    "    "
   ]
  },
  {
   "cell_type": "code",
   "execution_count": 9,
   "metadata": {},
   "outputs": [
    {
     "name": "stdout",
     "output_type": "stream",
     "text": [
      "103121\n",
      "103120\n"
     ]
    }
   ],
   "source": [
    "print(len(total_files))\n",
    "\n",
    "total_files2 = []\n",
    "for i in total_files:\n",
    "    if \".png\" in i:\n",
    "        total_files2.append(i)\n",
    "\n",
    "total_files = total_files2\n",
    "\n",
    "print(len(total_files))"
   ]
  },
  {
   "cell_type": "code",
   "execution_count": 10,
   "metadata": {},
   "outputs": [
    {
     "data": {
      "text/plain": [
       "'images1/00000324_013.png'"
      ]
     },
     "execution_count": 10,
     "metadata": {},
     "output_type": "execute_result"
    }
   ],
   "source": [
    "total_files[0]"
   ]
  },
  {
   "cell_type": "code",
   "execution_count": 11,
   "metadata": {},
   "outputs": [],
   "source": [
    "#define icpa object\n",
    "ipca = IncrementalPCA(n_components=NUM_COMPONENTS, batch_size=BATCH_SIZE)"
   ]
  },
  {
   "cell_type": "code",
   "execution_count": null,
   "metadata": {},
   "outputs": [
    {
     "name": "stdout",
     "output_type": "stream",
     "text": [
      "0\n"
     ]
    },
    {
     "name": "stderr",
     "output_type": "stream",
     "text": [
      "/Users/huntermccoy/anaconda3/lib/python3.7/site-packages/sklearn/decomposition/incremental_pca.py:294: RuntimeWarning: Mean of empty slice.\n",
      "  explained_variance[self.n_components_:].mean()\n",
      "/Users/huntermccoy/anaconda3/lib/python3.7/site-packages/numpy/core/_methods.py:85: RuntimeWarning: invalid value encountered in double_scalars\n",
      "  ret = ret.dtype.type(ret / rcount)\n"
     ]
    },
    {
     "name": "stdout",
     "output_type": "stream",
     "text": [
      "50\n",
      "100\n",
      "150\n",
      "200\n",
      "250\n",
      "300\n",
      "350\n",
      "400\n",
      "450\n",
      "500\n",
      "550\n",
      "600\n",
      "650\n",
      "700\n",
      "750\n",
      "800\n",
      "850\n",
      "900\n",
      "950\n",
      "1000\n",
      "1050\n",
      "1100\n",
      "1150\n",
      "1200\n",
      "1250\n",
      "1300\n",
      "1350\n",
      "1400\n",
      "1450\n"
     ]
    }
   ],
   "source": [
    "for i in range(int(len(total_files)/BATCH_SIZE)):\n",
    "    #print(i)\n",
    "    #load images\n",
    "    images = []\n",
    "    for j in range(i*BATCH_SIZE, i*BATCH_SIZE+BATCH_SIZE):\n",
    "        image = np.asarray(Image.open(total_files[j]).convert('L')).reshape(-1)\n",
    "        images.append(image)\n",
    "        #print(image.shape)\n",
    "    \n",
    "    \n",
    "    data = np.asarray(images)\n",
    "    print(i*BATCH_SIZE)\n",
    "    \n",
    "    ipca.partial_fit(data)"
   ]
  },
  {
   "cell_type": "code",
   "execution_count": null,
   "metadata": {},
   "outputs": [],
   "source": [
    "pkl.dump(ipca, open( \"PickledIPCA{}\".format(NUM_COMPONENTS), \"wb\" ) )\n",
    "\n"
   ]
  },
  {
   "cell_type": "code",
   "execution_count": null,
   "metadata": {},
   "outputs": [],
   "source": []
  }
 ],
 "metadata": {
  "kernelspec": {
   "display_name": "Python 3",
   "language": "python",
   "name": "python3"
  },
  "language_info": {
   "codemirror_mode": {
    "name": "ipython",
    "version": 3
   },
   "file_extension": ".py",
   "mimetype": "text/x-python",
   "name": "python",
   "nbconvert_exporter": "python",
   "pygments_lexer": "ipython3",
   "version": "3.7.3"
  }
 },
 "nbformat": 4,
 "nbformat_minor": 2
}
