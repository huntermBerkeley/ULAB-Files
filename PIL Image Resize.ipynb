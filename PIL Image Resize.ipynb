{
 "cells": [
  {
   "cell_type": "code",
   "execution_count": 7,
   "metadata": {},
   "outputs": [],
   "source": [
    "FOLDERS_TO_READ = [1,2,3,4,5,6,7,8,9,10,11,12]\n",
    "import os\n",
    "from PIL import Image \n",
    "import numpy as np\n",
    "\n",
    "RESIZE = 256\n",
    "size = RESIZE, RESIZE\n"
   ]
  },
  {
   "cell_type": "code",
   "execution_count": 13,
   "metadata": {},
   "outputs": [
    {
     "name": "stdout",
     "output_type": "stream",
     "text": [
      "103121\n",
      "103120\n"
     ]
    }
   ],
   "source": [
    "total_files = []\n",
    "\n",
    "for i in FOLDERS_TO_READ:\n",
    "    #print(\"Grabbing info for folder {}\".format(i))\n",
    "    total_files = total_files + [\"images{}/{}\".format(i,j) for j in os.listdir(\"images{}\".format(i))]\n",
    "print(len(total_files))\n",
    "\n",
    "total_files2 = []\n",
    "for i in total_files:\n",
    "    if \".png\" in i:\n",
    "        total_files2.append(i)\n",
    "\n",
    "total_files = total_files2\n",
    "\n",
    "print(len(total_files))"
   ]
  },
  {
   "cell_type": "code",
   "execution_count": null,
   "metadata": {},
   "outputs": [
    {
     "name": "stdout",
     "output_type": "stream",
     "text": [
      "1 finished\n",
      "1000 finished\n",
      "1999 finished\n",
      "2998 finished\n",
      "3997 finished\n",
      "4996 finished\n",
      "5995 finished\n"
     ]
    }
   ],
   "source": [
    "x = 0\n",
    "\n",
    "#for each file, open, grayscale, save to new directory\n",
    "for i in total_files:\n",
    "    image = Image.open(i).convert('L')\n",
    "    image.thumbnail(size, Image.ANTIALIAS)\n",
    "    output = \"Resized_{}/\".format(RESIZE) + i.split(\"/\")[-1]\n",
    "    image.save(output, \"PNG\")\n",
    "    \n",
    "    if x % 1000 == 999:\n",
    "        print(\"{} finished\".format(x+1))\n",
    "    x+=1"
   ]
  },
  {
   "cell_type": "code",
   "execution_count": null,
   "metadata": {},
   "outputs": [],
   "source": []
  }
 ],
 "metadata": {
  "kernelspec": {
   "display_name": "Python 3",
   "language": "python",
   "name": "python3"
  },
  "language_info": {
   "codemirror_mode": {
    "name": "ipython",
    "version": 3
   },
   "file_extension": ".py",
   "mimetype": "text/x-python",
   "name": "python",
   "nbconvert_exporter": "python",
   "pygments_lexer": "ipython3",
   "version": "3.7.3"
  }
 },
 "nbformat": 4,
 "nbformat_minor": 2
}
